{
  "nbformat": 4,
  "nbformat_minor": 0,
  "metadata": {
    "kernelspec": {
      "display_name": "Python 3",
      "language": "python",
      "name": "python3"
    },
    "language_info": {
      "codemirror_mode": {
        "name": "ipython",
        "version": 3
      },
      "file_extension": ".py",
      "mimetype": "text/x-python",
      "name": "python",
      "nbconvert_exporter": "python",
      "pygments_lexer": "ipython3",
      "version": "3.6.8"
    },
    "colab": {
      "name": "pset3.ipynb",
      "provenance": [],
      "collapsed_sections": []
    }
  },
  "cells": [
    {
      "cell_type": "code",
      "metadata": {
        "id": "HFj8s-8RT3vs"
      },
      "source": [
        "%matplotlib inline\n",
        "import numpy as np\n",
        "from numpy.fft import fft2, ifft2, fftshift, ifftshift\n",
        "from numpy import angle, real\n",
        "from numpy import exp, abs, pi, sqrt\n",
        "import matplotlib.pyplot as plt\n",
        "import cv2"
      ],
      "execution_count": null,
      "outputs": []
    },
    {
      "cell_type": "code",
      "metadata": {
        "id": "446yzZigT3vy"
      },
      "source": [
        "! curl http://6.869.csail.mit.edu/sp21/pset3_data/einsteinandwho.jpg > einsteinandwho.jpg\n",
        "! curl http://6.869.csail.mit.edu/sp21/pset3_data/bill.avi > bill.avi"
      ],
      "execution_count": null,
      "outputs": []
    },
    {
      "cell_type": "markdown",
      "metadata": {
        "id": "7rQ_i992T3vz"
      },
      "source": [
        "## Problem 1\n",
        "Fill out code **here**"
      ]
    },
    {
      "cell_type": "code",
      "metadata": {
        "id": "hXDTUMv4T3vz"
      },
      "source": [
        ""
      ],
      "execution_count": null,
      "outputs": []
    },
    {
      "cell_type": "markdown",
      "metadata": {
        "id": "H_dWGhUET3vz"
      },
      "source": [
        "## Problem 2\n",
        "Fill out code **here**"
      ]
    },
    {
      "cell_type": "code",
      "metadata": {
        "id": "o-vcClrcT3v0"
      },
      "source": [
        "# scale image's mean intensity to 127 for better visualization.\n",
        "def intensityscale(raw_img):\n",
        "    \n",
        "    # scale an image's intensity from [min, max] to [0, 255].\n",
        "    v_min, v_max = raw_img.min(), raw_img.max()\n",
        "    scaled_im = (raw_img * 1.0 - v_min) / (v_max - v_min) * 255.\n",
        "    \n",
        "    # keep the mean to be 127.\n",
        "    meangray = np.mean(scaled_im)\n",
        "    scaled_im = scaled_im - meangray + 127.\n",
        "    \n",
        "    # clip to [0, 255]\n",
        "    scaled_im = np.clip(scaled_im, 0, 255)\n",
        "    \n",
        "    return scaled_im"
      ],
      "execution_count": null,
      "outputs": []
    },
    {
      "cell_type": "markdown",
      "metadata": {
        "id": "UlnuAmerT3v0"
      },
      "source": [
        "## Problem 3.a"
      ]
    },
    {
      "cell_type": "code",
      "metadata": {
        "id": "czQZvu7WT3v0"
      },
      "source": [
        "def imshow(im, cmap='gray'):\n",
        "    # clip image from 0-1\n",
        "    im = np.clip(im, 0, 1)\n",
        "    plt.imshow(im, cmap=cmap)"
      ],
      "execution_count": null,
      "outputs": []
    },
    {
      "cell_type": "code",
      "metadata": {
        "id": "KswSFrezT3v1"
      },
      "source": [
        "# 9x9 images\n",
        "imSize = 9\n",
        "\n",
        "# we would like to magnify the change between im1 and im2 by 4x\n",
        "magnificationFactor = 4;\n",
        "\n",
        "# horizontal movement from (0, 0) to (0, 1)\n",
        "im1 = np.zeros([imSize, imSize])\n",
        "im2 = np.zeros([imSize, imSize])\n",
        "im1[0,0] = 1\n",
        "im2[0,1] = 1\n",
        "\n",
        "ff1 = fftshift(fft2(im1))\n",
        "ff2 = fftshift(fft2(im2))"
      ],
      "execution_count": null,
      "outputs": []
    },
    {
      "cell_type": "markdown",
      "metadata": {
        "id": "Q8wHgtdVT3v1"
      },
      "source": [
        "### Magnify Change\n",
        "Fill out code **here**"
      ]
    },
    {
      "cell_type": "code",
      "metadata": {
        "id": "7VIdTa1hT3v1"
      },
      "source": [
        "def magnifyChange(im1, im2, magnificationFactor):\n",
        "    \n",
        "    # find phase shift in frequency domain\n",
        "    im1Dft = fft2(im1)\n",
        "    im2Dft = fft2(im2)\n",
        "    phaseShift = # TODO\n",
        "    \n",
        "    # magnify the phase change in frequency domain\n",
        "    magnifiedDft = # TODO\n",
        "    \n",
        "    # what does the magnified phase change cause in image space?\n",
        "    magnified = ifft2(magnifiedDft).real;\n",
        "    \n",
        "    return magnified"
      ],
      "execution_count": null,
      "outputs": []
    },
    {
      "cell_type": "markdown",
      "metadata": {
        "id": "bjFLRGEuT3v2"
      },
      "source": [
        "**HINT:** If you're not familiar with complex number in python, here's a quickstart."
      ]
    },
    {
      "cell_type": "code",
      "metadata": {
        "id": "x7I3wGemT3v2"
      },
      "source": [
        "# create a complex number\n",
        "x = 1 + 1j\n",
        "print(\"x =\", x)\n",
        "print(\"x.real\", x.real, \"x.imag\", x.imag)\n",
        "\n",
        "# magnitude and phase of complex number\n",
        "mag = abs(x)\n",
        "phase = angle(x)\n",
        "\n",
        "print(\"Magnitude\", mag)\n",
        "print(\"Phase\", phase)\n",
        "\n",
        "# Euler's formula\n",
        "y = mag * exp(phase * 1j)\n",
        "print(\"y =\", y)"
      ],
      "execution_count": null,
      "outputs": []
    },
    {
      "cell_type": "code",
      "metadata": {
        "id": "Z6YWeepmT3v2"
      },
      "source": [
        "# magnify position change\n",
        "magnified = magnifyChange(im1, im2, magnificationFactor);\n",
        "\n",
        "plt.figure(figsize=(12,36))\n",
        "plt.subplot(131)\n",
        "imshow(im1); plt.title('im1');\n",
        "\n",
        "plt.subplot(132)\n",
        "imshow(im2); plt.title('im2');\n",
        "\n",
        "plt.subplot(133)\n",
        "imshow(magnified); plt.title('magnified');"
      ],
      "execution_count": null,
      "outputs": []
    },
    {
      "cell_type": "markdown",
      "metadata": {
        "id": "2PCOffIUT3v2"
      },
      "source": [
        "## Problem 3.b"
      ]
    },
    {
      "cell_type": "code",
      "metadata": {
        "id": "OLC6gSXMT3v3"
      },
      "source": [
        "# 9x9 images\n",
        "imSize = 9\n",
        "\n",
        "# we would like to magnify the change between im1 and im2 by 4x\n",
        "magnificationFactor = 4\n",
        "\n",
        "# horizontal movement from (1, 1) to (1, 2)\n",
        "# additional vertical movement from (9, 9) to (8, 9)\n",
        "im1 = np.zeros([imSize, imSize])\n",
        "im2 = np.zeros([imSize, imSize])\n",
        "im1[0,0] = 1\n",
        "im2[0,1] = 1\n",
        "im1[8,8] = 1\n",
        "im2[7,8] = 1\n",
        "\n",
        "# magnify position change\n",
        "magnified = magnifyChange(im1, im2, magnificationFactor)\n",
        "\n",
        "\n",
        "plt.figure(figsize=(12,36))\n",
        "plt.subplot(131)\n",
        "imshow(im1); plt.title('im1');\n",
        "\n",
        "plt.subplot(132)\n",
        "imshow(im2); plt.title('im2');\n",
        "\n",
        "plt.subplot(133)\n",
        "imshow(magnified); plt.title('magnified');\n"
      ],
      "execution_count": null,
      "outputs": []
    },
    {
      "cell_type": "markdown",
      "metadata": {
        "id": "VTP8LwLfT3v3"
      },
      "source": [
        "## Problem 3.c\n",
        "Fill out code **here**"
      ]
    },
    {
      "cell_type": "code",
      "metadata": {
        "id": "YQs4fJZTT3v3"
      },
      "source": [
        "# 9x9 images\n",
        "imSize = 9\n",
        "\n",
        "# we would like to magnify the change between im1 and im2 by 4x\n",
        "magnificationFactor = 4\n",
        "\n",
        "# width of our Gaussian window\n",
        "sigma = 2\n",
        "\n",
        "# horizontal movement from (1, 1) to (1, 2)\n",
        "# additional vertical movement from (9, 9) to (8, 9)\n",
        "im1 = np.zeros([imSize, imSize])\n",
        "im2 = np.zeros([imSize, imSize])\n",
        "im1[0,0] = 1\n",
        "im2[0,1] = 1\n",
        "im1[8,8] = 1\n",
        "im2[7,8] = 1\n",
        "\n",
        "# we will magnify windows of the image and aggregate the results\n",
        "magnified = np.zeros([imSize, imSize])\n",
        "\n",
        "# meshgrid for computing Gaussian window\n",
        "X, Y = np.meshgrid(np.arange(imSize), np.arange(imSize))\n",
        "\n",
        "for y in range(0, imSize, 2*sigma):\n",
        "    for x in range(0, imSize, 2*sigma):\n",
        "        gaussianMask = # TODO\n",
        "        windowMagnified = magnifyChange(# TODO,\\\n",
        "            magnificationFactor)\n",
        "        magnified = magnified + windowMagnified\n",
        "        \n",
        "plt.figure(figsize=(12,36))\n",
        "plt.subplot(131)\n",
        "imshow(im1); plt.title('im1');\n",
        "\n",
        "plt.subplot(132)\n",
        "imshow(im2); plt.title('im2');\n",
        "\n",
        "plt.subplot(133)\n",
        "imshow(magnified); plt.title('magnified');"
      ],
      "execution_count": null,
      "outputs": []
    },
    {
      "cell_type": "markdown",
      "metadata": {
        "id": "kj-KjWXBT3v3"
      },
      "source": [
        "## Problem 3.d"
      ]
    },
    {
      "cell_type": "code",
      "metadata": {
        "id": "u7ISUwmbT3v4"
      },
      "source": [
        "import numpy as np\n",
        "import cv2\n",
        "\n",
        "cap = cv2.VideoCapture('bill.avi')\n",
        "\n",
        "# list of video frames\n",
        "frames = []\n",
        "\n",
        "while(cap.isOpened()):\n",
        "    # read frame from the video\n",
        "    ret, frame = cap.read()\n",
        "    \n",
        "    if ret is False:\n",
        "        break\n",
        "        \n",
        "    frames.append(frame)\n",
        "\n",
        "cap.release()\n",
        "\n",
        "# scale frame to 0-1\n",
        "frames = np.array(frames) / 255.\n",
        "print(\"frames size:\", frames.shape, \"# (nb_frames, height, width, channel)\")\n",
        "\n",
        "# get height, width\n",
        "numFrames = frames.shape[0]\n",
        "height = frames.shape[1]\n",
        "width = frames.shape[2]"
      ],
      "execution_count": null,
      "outputs": []
    },
    {
      "cell_type": "markdown",
      "metadata": {
        "id": "hABCG47vT3v4"
      },
      "source": [
        "### Motion magnification\n",
        "Fill out code **here**"
      ]
    },
    {
      "cell_type": "code",
      "metadata": {
        "id": "8QTRy7waT3v4"
      },
      "source": [
        "# 10x magnification of motion\n",
        "magnificationFactor = 10\n",
        "\n",
        "# width of Gaussian window\n",
        "sigma = 13\n",
        "\n",
        "# alpha for moving average\n",
        "alpha = 0.5\n",
        "\n",
        "# we will magnify windows of the video and aggregate the results\n",
        "magnified = np.zeros_like(frames)\n",
        "\n",
        "# meshgrid for computing Gaussian window\n",
        "X, Y = np.meshgrid(np.arange(width), np.arange(height))\n",
        "\n",
        "# iterate over windows of the frames\n",
        "xRange = list(range(0, width, 2*sigma))\n",
        "yRange = list(range(0, height, 2*sigma))\n",
        "numWindows = len(xRange) * len(yRange)\n",
        "windowIndex = 1\n",
        "\n",
        "for y in yRange:\n",
        "    for x in xRange:\n",
        "        for channelIndex in range(3): # RGB channels\n",
        "            for frameIndex in range(numFrames):\n",
        "                \n",
        "                # create windowed frames\n",
        "                gaussianMask = # TODO\n",
        "                windowedFrames = gaussianMask * frames[frameIndex,:,:,channelIndex]\n",
        "            \n",
        "                # initialize moving average of phase for current window/channel\n",
        "                if frameIndex == 0:\n",
        "                    windowAveragePhase = angle(fft2(windowedFrames))\n",
        "                \n",
        "                windowDft = fft2(windowedFrames)\n",
        "                \n",
        "                # compute phase shift and constrain to [-pi, pi] since\n",
        "                # angle space wraps around\n",
        "                windowPhaseShift = angle(windowDft) - windowAveragePhase\n",
        "                windowPhaseShift[windowPhaseShift > pi] = windowPhaseShift[windowPhaseShift > pi] - 2 * pi\n",
        "                windowPhaseShift[windowPhaseShift < -pi] = windowPhaseShift[windowPhaseShift < -pi] + 2 * pi\n",
        "                \n",
        "                # magnify phase shift\n",
        "                windowMagnifiedPhase = # TODO\n",
        "                 \n",
        "                # go back to image space\n",
        "                windowMagnifiedDft = # TODO\n",
        "                windowMagnified = abs(ifft2(windowMagnifiedDft))\n",
        "                \n",
        "                # update moving average\n",
        "                windowPhaseUnwrapped = windowAveragePhase + windowPhaseShift\n",
        "                windowAveragePhase = alpha * windowAveragePhase + (1 - alpha) * windowPhaseUnwrapped\n",
        "                \n",
        "                # aggregate\n",
        "                magnified[frameIndex,:,:,channelIndex] = magnified[frameIndex,:,:,channelIndex] + windowMagnified\n",
        "        \n",
        "        # print progress\n",
        "        print('{}/{}'.format(windowIndex, numWindows), end='\\r')\n",
        "        windowIndex += 1"
      ],
      "execution_count": null,
      "outputs": []
    },
    {
      "cell_type": "code",
      "metadata": {
        "id": "zpBHydgKT3v6"
      },
      "source": [
        "outputs = magnified / np.max(magnified)\n",
        "for channelIndex in range(3):\n",
        "    originalFrame = frames[0,:,:,channelIndex]\n",
        "    magnifiedFrame = outputs[0,:,:,channelIndex]\n",
        "    scale = np.std(originalFrame[:]) / np.std(magnifiedFrame[:])\n",
        "    originalMean = np.mean(originalFrame[:])\n",
        "    magnifiedMean = np.mean(magnifiedFrame[:])\n",
        "    outputs[:,:,:,channelIndex] = magnifiedMean + scale * (outputs[:,:,:,channelIndex] - magnifiedMean)\n",
        "\n",
        "outputs = np.clip(outputs, 0, 1)"
      ],
      "execution_count": null,
      "outputs": []
    },
    {
      "cell_type": "code",
      "metadata": {
        "id": "ud60cXJqT3v7"
      },
      "source": [
        "# create output video\n",
        "fourcc = cv2.VideoWriter_fourcc('M','J','P','G')\n",
        "# fourcc = cv2.VideoWriter_fourcc(*'XVID')\n",
        "out = cv2.VideoWriter('bill_magnified.avi',fourcc, 30.0, (height, width))\n",
        "\n",
        "for i in range(frames.shape[0]):\n",
        "    # scale the frame back to 0-255\n",
        "    frame = (np.clip(outputs[i], 0, 1) * 255).astype(np.uint8)\n",
        "    \n",
        "    # write frame to output video\n",
        "    out.write(frame)\n",
        "\n",
        "out.release()"
      ],
      "execution_count": null,
      "outputs": []
    },
    {
      "cell_type": "code",
      "metadata": {
        "id": "kpaXMWVOT3v7"
      },
      "source": [
        "# Only for colab downloading videos\n",
        "try:\n",
        "    from google.colab import files\n",
        "    files.download('bill_magnified.avi')\n",
        "except:\n",
        "    print(\"Only for google colab\")"
      ],
      "execution_count": null,
      "outputs": []
    }
  ]
}